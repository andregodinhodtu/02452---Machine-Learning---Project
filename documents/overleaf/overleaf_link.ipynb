{
 "cells": [
  {
   "cell_type": "markdown",
   "id": "134c5bce",
   "metadata": {},
   "source": [
    "Overleaf link for the report of the project 1:\n",
    "\n",
    "https://www.overleaf.com/7551183845vfxqnzzdkfpp#4f3bc7\n",
    "\n",
    "Overleaf link for the report of the project 1:\n",
    "\n",
    "https://www.overleaf.com/3145584797jqvthpjfkqdv#36ee3c\n"
   ]
  }
 ],
 "metadata": {
  "language_info": {
   "name": "python"
  }
 },
 "nbformat": 4,
 "nbformat_minor": 5
}
