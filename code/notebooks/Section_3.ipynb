{
 "cells": [
  {
   "cell_type": "markdown",
   "id": "5af52a71",
   "metadata": {},
   "source": [
    "# f"
   ]
  },
  {
   "cell_type": "code",
   "execution_count": 20,
   "id": "44e8e9ae",
   "metadata": {},
   "outputs": [],
   "source": [
    "import pandas as pd\n",
    "import numpy as np\n",
    "import matplotlib.pyplot as plt\n",
    "import seaborn as sns\n",
    "import math\n",
    "\n",
    "from sklearn.decomposition import PCA\n",
    "from sklearn.preprocessing import LabelEncoder\n",
    "\n",
    "# Plotting style\n",
    "sns.set_style('darkgrid')\n",
    "sns.set_theme(font_scale=1.)"
   ]
  },
  {
   "cell_type": "code",
   "execution_count": 21,
   "id": "eea7bced",
   "metadata": {},
   "outputs": [],
   "source": [
    "# Load the NanoNose dataset into X and y\n",
    "\n",
    "# Name of the dataset\n",
    "name_data_file = \"heart_failure_clinical_records_dataset\"\n",
    "\n",
    "# Absolute path to the folder containing your CSV\n",
    "data_folder = r\"C:\\Users\\andre\\Documents\\GitHub\\02452---Machine-Learning---Project\\code\\raw_data\"\n",
    "\n",
    "# Construct the full path\n",
    "file_path = f\"{data_folder}\\\\{name_data_file}.csv\"\n",
    "\n",
    "# Load the data\n",
    "data = pd.read_csv(file_path, na_values=[\"?\"])"
   ]
  },
  {
   "cell_type": "code",
   "execution_count": null,
   "id": "99a9b451",
   "metadata": {},
   "outputs": [
    {
     "name": "stdout",
     "output_type": "stream",
     "text": [
      "X shape: (299, 12)\n",
      "y shape: (299,)\n"
     ]
    }
   ],
   "source": [
    "# Select features (all columns except target)\n",
    "X = data.drop(columns=[\"DEATH_EVENT\"])  # all features except the target\n",
    "\n",
    "# Select target\n",
    "y = data[\"DEATH_EVENT\"]\n",
    "\n",
    "# Check data shape\n",
    "assert X.shape == (299,12) \n",
    "assert y.shape == (299,), \"Number of samples in X and y should match\"\n"
   ]
  },
  {
   "cell_type": "code",
   "execution_count": null,
   "id": "7ee33583",
   "metadata": {},
   "outputs": [],
   "source": []
  }
 ],
 "metadata": {
  "kernelspec": {
   "display_name": "dtu02452",
   "language": "python",
   "name": "python3"
  },
  "language_info": {
   "codemirror_mode": {
    "name": "ipython",
    "version": 3
   },
   "file_extension": ".py",
   "mimetype": "text/x-python",
   "name": "python",
   "nbconvert_exporter": "python",
   "pygments_lexer": "ipython3",
   "version": "3.11.13"
  }
 },
 "nbformat": 4,
 "nbformat_minor": 5
}
