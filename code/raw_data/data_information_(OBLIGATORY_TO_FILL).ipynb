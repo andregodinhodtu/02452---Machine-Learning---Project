{
 "cells": [
  {
   "cell_type": "markdown",
   "id": "134c5bce",
   "metadata": {},
   "source": [
    "# Data Sets\n"
   ]
  },
  {
   "cell_type": "markdown",
   "id": "949c4b49",
   "metadata": {},
   "source": [
    "## Cervical Cancer (Risk Factors)\n",
    "\n",
    "risk_factors_cervical_cancer.csv \n",
    "\n",
    "link: https://archive.ics.uci.edu/dataset/383/cervical+cancer+risk+factors\n"
   ]
  },
  {
   "cell_type": "markdown",
   "id": "409b1eb9",
   "metadata": {},
   "source": [
    "## Risk Factor Prediction of Chronic Kidney Disease\n",
    "\n",
    "ckd-dataset-v2.csv\n",
    "\n",
    "link: https://archive.ics.uci.edu/dataset/857/risk+factor+prediction+of+chronic+kidney+disease"
   ]
  },
  {
   "cell_type": "markdown",
   "id": "490d03e5",
   "metadata": {},
   "source": [
    "## Hepatitis C Virus (HCV) for Egyptian patients\n",
    "\n",
    "HCV-Egy-Data.csv\n",
    "\n",
    "link: https://archive.ics.uci.edu/dataset/503/hepatitis+c+virus+hcv+for+egyptian+patients\n"
   ]
  },
  {
   "cell_type": "markdown",
   "id": "a1b5b68b",
   "metadata": {},
   "source": [
    "## Estimation of Obesity Levels Based On Eating Habits and Physical Condition\n",
    "\n",
    "ObesityDataSet_raw_and_data_sinthetic.csv\n",
    "\n",
    "link: https://archive.ics.uci.edu/dataset/544/estimation+of+obesity+levels+based+on+eating+habits+and+physical+condition"
   ]
  },
  {
   "cell_type": "markdown",
   "id": "ed560fca",
   "metadata": {},
   "source": [
    "## Heart Disease option?\n",
    "\n",
    "https://archive.ics.uci.edu/dataset/45/heart+disease\n"
   ]
  },
  {
   "cell_type": "markdown",
   "id": "732c0cd5",
   "metadata": {},
   "source": [
    "\n",
    "## Breast Cancer Wisconsin (Diagnostic) option?\n",
    "\n",
    "link: https://archive.ics.uci.edu/dataset/17/breast+cancer+wisconsin+diagnostic"
   ]
  },
  {
   "cell_type": "markdown",
   "id": "dfcab4e0",
   "metadata": {},
   "source": [
    "## Oral Cancer Prediction Dataset \n",
    "\n",
    "link: https://www.kaggle.com/datasets/ankushpanday2/oral-cancer-prediction-dataset"
   ]
  },
  {
   "cell_type": "markdown",
   "id": "61f20502",
   "metadata": {},
   "source": [
    "## Colorectal Cancer Global Dataset & Predictions \n",
    "\n",
    "link: https://www.kaggle.com/datasets/ankushpanday2/colorectal-cancer-global-dataset-and-predictions"
   ]
  },
  {
   "cell_type": "markdown",
   "id": "9eefcb48",
   "metadata": {},
   "source": [
    "## Cardiovascular Disease\n",
    "\n",
    "link: https://www.kaggle.com/datasets/colewelkins/cardiovascular-disease"
   ]
  },
  {
   "cell_type": "markdown",
   "id": "ca5060ad",
   "metadata": {},
   "source": [
    "## Thyroid Disease Data\n",
    "\n",
    "thyroidDF.csv\n",
    "\n",
    "link: https://www.kaggle.com/datasets/emmanuelfwerr/thyroid-disease-data\n"
   ]
  },
  {
   "cell_type": "markdown",
   "id": "19ea0508",
   "metadata": {},
   "source": [
    "\n",
    "## Heart Failure Clinical Records GOOD\n",
    "\n",
    "ObesityDataSet_raw_and_data_sinthetic.csv\n",
    "\n",
    "link: https://archive.ics.uci.edu/dataset/519/heart+failure+clinical+records"
   ]
  },
  {
   "cell_type": "markdown",
   "id": "ab46f7ce",
   "metadata": {},
   "source": [
    "## ILPD (Indian Liver Patient Dataset)\n",
    "\n",
    "Indian Liver Patient Dataset (ILPD).csv\n",
    "\n",
    "link: https://archive.ics.uci.edu/dataset/225/ilpd+indian+liver+patient+dataset\n"
   ]
  }
 ],
 "metadata": {
  "kernelspec": {
   "display_name": "dtu02452",
   "language": "python",
   "name": "python3"
  },
  "language_info": {
   "codemirror_mode": {
    "name": "ipython",
    "version": 3
   },
   "file_extension": ".py",
   "mimetype": "text/x-python",
   "name": "python",
   "nbconvert_exporter": "python",
   "pygments_lexer": "ipython3",
   "version": "3.13.5"
  }
 },
 "nbformat": 4,
 "nbformat_minor": 5
}
