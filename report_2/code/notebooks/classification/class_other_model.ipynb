{
 "cells": [
  {
   "cell_type": "markdown",
   "id": "8caeade0",
   "metadata": {},
   "source": [
    "# class_logistic_regression.ipynb"
   ]
  },
  {
   "cell_type": "markdown",
   "id": "2a04ba25",
   "metadata": {},
   "source": [
    "## Data import and test"
   ]
  },
  {
   "cell_type": "code",
   "execution_count": 2,
   "id": "c13ac8be",
   "metadata": {},
   "outputs": [],
   "source": [
    "import pandas as pd\n",
    "import numpy as np\n",
    "import matplotlib.pyplot as plt\n",
    "import seaborn as sns\n",
    "import math"
   ]
  },
  {
   "cell_type": "code",
   "execution_count": 3,
   "id": "8d4a57e8",
   "metadata": {},
   "outputs": [],
   "source": [
    "name_data_file=\"heart_failure_clinical_records_dataset\"\n",
    "\n",
    "data = pd.read_csv(f\"../../raw_data/{name_data_file}.csv\", na_values=[\"?\"])"
   ]
  },
  {
   "cell_type": "markdown",
   "id": "8e4708c8",
   "metadata": {},
   "source": [
    "# ANN Artificial Neural Network"
   ]
  },
  {
   "cell_type": "markdown",
   "id": "fb0d9d35",
   "metadata": {},
   "source": [
    "# CT Classification Tree"
   ]
  },
  {
   "cell_type": "markdown",
   "id": "41349c0e",
   "metadata": {},
   "source": [
    "# KNN K Nearest Neighbours"
   ]
  },
  {
   "cell_type": "markdown",
   "id": "11df745d",
   "metadata": {},
   "source": [
    "# NB Naive Bayes"
   ]
  }
 ],
 "metadata": {
  "kernelspec": {
   "display_name": "dtu02452",
   "language": "python",
   "name": "python3"
  },
  "language_info": {
   "codemirror_mode": {
    "name": "ipython",
    "version": 3
   },
   "file_extension": ".py",
   "mimetype": "text/x-python",
   "name": "python",
   "nbconvert_exporter": "python",
   "pygments_lexer": "ipython3",
   "version": "3.13.5"
  }
 },
 "nbformat": 4,
 "nbformat_minor": 5
}
