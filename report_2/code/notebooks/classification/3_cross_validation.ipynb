{
 "cells": [
  {
   "cell_type": "markdown",
   "id": "8caeade0",
   "metadata": {},
   "source": [
    "# 3_cross_validation_on_classification.ipynb"
   ]
  },
  {
   "cell_type": "markdown",
   "id": "2a04ba25",
   "metadata": {},
   "source": [
    "## Data import and test"
   ]
  },
  {
   "cell_type": "code",
   "execution_count": 7,
   "id": "c13ac8be",
   "metadata": {},
   "outputs": [],
   "source": [
    "import pandas as pd\n",
    "import numpy as np\n",
    "import matplotlib.pyplot as plt\n",
    "import seaborn as sns\n",
    "import math\n",
    "from sklearn.model_selection import train_test_split, KFold, LeaveOneOut\n",
    "from sklearn.neighbors import KNeighborsClassifier\n",
    "from sklearn.preprocessing import StandardScaler\n",
    "from sklearn.metrics import accuracy_score, confusion_matrix\n",
    "from sklearn.metrics import mean_squared_error"
   ]
  },
  {
   "cell_type": "code",
   "execution_count": 2,
   "id": "8d4a57e8",
   "metadata": {},
   "outputs": [],
   "source": [
    "name_data_file=\"heart_failure_clinical_records_dataset\"\n",
    "\n",
    "data = pd.read_csv(f\"../../raw_data/{name_data_file}.csv\", na_values=[\"?\"])"
   ]
  },
  {
   "cell_type": "code",
   "execution_count": 5,
   "id": "d9d49120",
   "metadata": {},
   "outputs": [],
   "source": [
    "# Split the data frame into features and labels\n",
    "X = data.drop(columns=[\"DEATH_EVENT\"])\n",
    "y = data[\"DEATH_EVENT\"]\n",
    "\n",
    "assert X.shape == (299, 12), \"There should be 299 samples and 12 features in the heart_failure_clinical_records_dataset dataset.\"\n",
    "assert y.shape == (299,), \"There should be 299 labels in the heart_failure_clinical_records_dataset dataset.\""
   ]
  },
  {
   "cell_type": "markdown",
   "id": "114ffbef",
   "metadata": {},
   "source": [
    "# Cross validation of the methods"
   ]
  },
  {
   "cell_type": "code",
   "execution_count": null,
   "id": "3b0a2ecb",
   "metadata": {},
   "outputs": [
    {
     "name": "stdout",
     "output_type": "stream",
     "text": [
      "Baseline: For outer fold 1 Mean Inner fold MSE: 0.31168091168091167\n",
      "Baseline: For outer fold 2 Mean Inner fold MSE: 0.30826210826210826\n",
      "Baseline: For outer fold 3 Mean Inner fold MSE: 0.3121082621082621\n",
      "Baseline: For outer fold 4 Mean Inner fold MSE: 0.3085470085470085\n",
      "Baseline: For outer fold 5 Mean Inner fold MSE: 0.3384615384615385\n",
      "Baseline: For outer fold 6 Mean Inner fold MSE: 0.3232193732193732\n",
      "Baseline: For outer fold 7 Mean Inner fold MSE: 0.3264957264957265\n",
      "Baseline: For outer fold 8 Mean Inner fold MSE: 0.33048433048433046\n",
      "Baseline: For outer fold 9 Mean Inner fold MSE: 0.3121082621082621\n",
      "Baseline: For outer fold 10 Mean Inner fold MSE: 0.337037037037037\n"
     ]
    }
   ],
   "source": [
    "outer_folds_k_1 = 10\n",
    "inner_folds_k_2 = 10\n",
    "random_state = 42\n",
    "\n",
    "CV_outer = KFold(n_splits=outer_folds_k_1, shuffle=True, random_state=random_state) \n",
    "\n",
    "fold_results = []  # store per-fold errors\n",
    "outer_test_mse = []\n",
    "outer_fold_index = 0\n",
    "inner_fold_index = 0\n",
    "\n",
    "for outer_train_idx, outer_test_idx in CV_outer.split(X):\n",
    "    outer_fold_index += 1\n",
    "    # KFold object returns indices for train and test sets with shuffling meaning that indices are not sequential, use print to verify\n",
    "    # .split() returns the indices of the samples for each fold, test and train sets\n",
    "\n",
    "    X_train_outer, X_test_outer = X.iloc[outer_train_idx], X.iloc[outer_test_idx]\n",
    "    #print(X_train_outer.shape, X_test_outer.shape)\n",
    "    #print(outer_train_idx)\n",
    "    #print(outer_test_idx)\n",
    "    y_train_outer, y_test_outer = y.iloc[outer_train_idx], y.iloc[outer_test_idx]\n",
    "    #print(y_train_outer.shape, y_test_outer.shape)\n",
    "\n",
    "    # let´s start of with the inner cross validation\n",
    "\n",
    "    CV_inner = KFold(n_splits=inner_folds_k_2, shuffle=True, random_state=random_state) # folds for inner cross-validation object\n",
    "    inner_mse_baseline = [] # store per-fold errors for inner CV\n",
    "    for inner_train_idx, inner_test_idx in CV_inner.split(X_train_outer): \n",
    "        inner_fold_index += 1\n",
    "\n",
    "        X_train_inner, X_test_inner = X_train_outer.iloc[inner_train_idx], X_train_outer.iloc[inner_test_idx]\n",
    "        y_train_inner, y_test_inner = y_train_outer.iloc[inner_train_idx], y_train_outer.iloc[inner_test_idx] \n",
    "\n",
    "        y_train_largest_class = y_train_inner.mode()[0] # calculate mode of y in training set, values are 0 and 1, so mode is the largest class\n",
    "        #print(f\"y_train_largest_class: {y_train_largest_class}\")\n",
    "        #print(f\"y_train_mean: {y_train_mean}\")\n",
    "        y_test_pred_inner = pd.Series(y_train_largest_class, index=y_test_inner.index)\n",
    "        #print(y_test_pred_inner)\n",
    "        #print(\"\\n\")\n",
    "        #print(f\"Number of 0s in y_test_inner: {sum(y_test_inner == 0)}, Number of 1s in y_test_inner: {sum(y_test_inner == 1)}\")\n",
    "\n",
    "        inner_mse_baseline.append(mean_squared_error(y_test_inner, y_test_pred_inner)) # calculate MSE for this inner fold, makes mean \n",
    "        #print(inner_mse_baseline)\n",
    "        # value of the differences between predicted and actual y values for the test set\n",
    "\n",
    "    inner_mse_mean = np.mean(inner_mse_baseline) # average MSE across inner folds\n",
    "    print(f\"Baseline: For outer fold {outer_fold_index} Mean Inner fold MSE:\", inner_mse_mean) # just a print to see progress, in reality we will have to do the cross validation using 3 models\n",
    "    # and the one who has the lowest inner MSE will be selected for the outer test set evaluation"
   ]
  },
  {
   "cell_type": "code",
   "execution_count": null,
   "id": "a57b28a0",
   "metadata": {},
   "outputs": [],
   "source": []
  }
 ],
 "metadata": {
  "kernelspec": {
   "display_name": "dtu02452",
   "language": "python",
   "name": "python3"
  },
  "language_info": {
   "codemirror_mode": {
    "name": "ipython",
    "version": 3
   },
   "file_extension": ".py",
   "mimetype": "text/x-python",
   "name": "python",
   "nbconvert_exporter": "python",
   "pygments_lexer": "ipython3",
   "version": "3.13.5"
  }
 },
 "nbformat": 4,
 "nbformat_minor": 5
}
