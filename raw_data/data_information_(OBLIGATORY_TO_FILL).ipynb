{
 "cells": [
  {
   "cell_type": "markdown",
   "id": "134c5bce",
   "metadata": {},
   "source": [
    "# Data Sets\n"
   ]
  },
  {
   "cell_type": "markdown",
   "id": "949c4b49",
   "metadata": {},
   "source": [
    "risk_factors_cervical_cancer.csv \n",
    "\n",
    "link: https://archive.ics.uci.edu/dataset/383/cervical+cancer+risk+factors\n"
   ]
  },
  {
   "cell_type": "markdown",
   "id": "409b1eb9",
   "metadata": {},
   "source": [
    "ckd-dataset-v2.csv\n",
    "\n",
    "link: https://archive.ics.uci.edu/dataset/857/risk+factor+prediction+of+chronic+kidney+disease"
   ]
  },
  {
   "cell_type": "markdown",
   "id": "490d03e5",
   "metadata": {},
   "source": []
  }
 ],
 "metadata": {
  "language_info": {
   "name": "python"
  }
 },
 "nbformat": 4,
 "nbformat_minor": 5
}
