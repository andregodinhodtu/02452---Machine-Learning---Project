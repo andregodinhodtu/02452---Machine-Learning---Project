{
 "cells": [
  {
   "cell_type": "markdown",
   "id": "134c5bce",
   "metadata": {},
   "source": [
    "# Data Sets\n"
   ]
  },
  {
   "cell_type": "markdown",
   "id": "949c4b49",
   "metadata": {},
   "source": [
    "## Cervical Cancer (Risk Factors)\n",
    "\n",
    "risk_factors_cervical_cancer.csv \n",
    "\n",
    "link: https://archive.ics.uci.edu/dataset/383/cervical+cancer+risk+factors\n"
   ]
  },
  {
   "cell_type": "markdown",
   "id": "409b1eb9",
   "metadata": {},
   "source": [
    "## Risk Factor Prediction of Chronic Kidney Disease\n",
    "\n",
    "ckd-dataset-v2.csv\n",
    "\n",
    "link: https://archive.ics.uci.edu/dataset/857/risk+factor+prediction+of+chronic+kidney+disease"
   ]
  },
  {
   "cell_type": "markdown",
   "id": "490d03e5",
   "metadata": {},
   "source": [
    "## Hepatitis C Virus (HCV) for Egyptian patients\n",
    "\n",
    "HCV-Egy-Data.csv\n",
    "\n",
    "link: https://archive.ics.uci.edu/dataset/503/hepatitis+c+virus+hcv+for+egyptian+patients\n"
   ]
  },
  {
   "cell_type": "markdown",
   "id": "a1b5b68b",
   "metadata": {},
   "source": [
    "Estimation of Obesity Levels Based On Eating Habits and Physical Condition\n",
    "\n",
    "ObesityDataSet_raw_and_data_sinthetic.csv\n",
    "\n",
    "link: https://archive.ics.uci.edu/dataset/544/estimation+of+obesity+levels+based+on+eating+habits+and+physical+condition"
   ]
  }
 ],
 "metadata": {
  "language_info": {
   "name": "python"
  }
 },
 "nbformat": 4,
 "nbformat_minor": 5
}
